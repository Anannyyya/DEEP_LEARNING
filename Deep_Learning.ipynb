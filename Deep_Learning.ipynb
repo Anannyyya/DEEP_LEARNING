{
  "nbformat": 4,
  "nbformat_minor": 0,
  "metadata": {
    "colab": {
      "provenance": [],
      "authorship_tag": "ABX9TyOWes0TFxvk1lpG1c1A9JVA",
      "include_colab_link": true
    },
    "kernelspec": {
      "name": "python3",
      "display_name": "Python 3"
    },
    "language_info": {
      "name": "python"
    }
  },
  "cells": [
    {
      "cell_type": "markdown",
      "metadata": {
        "id": "view-in-github",
        "colab_type": "text"
      },
      "source": [
        "<a href=\"https://colab.research.google.com/github/Anannyyya/python_examples/blob/master/Deep_Learning.ipynb\" target=\"_parent\"><img src=\"https://colab.research.google.com/assets/colab-badge.svg\" alt=\"Open In Colab\"/></a>"
      ]
    },
    {
      "cell_type": "code",
      "execution_count": 3,
      "metadata": {
        "colab": {
          "base_uri": "https://localhost:8080/"
        },
        "id": "957ZbRW7q9NV",
        "outputId": "17495619-da30-4394-eaaf-488a972d1bbf"
      },
      "outputs": [
        {
          "output_type": "stream",
          "name": "stdout",
          "text": [
            "Hello this is tensor flow\n"
          ]
        }
      ],
      "source": [
        "import tensorflow as tf\n",
        "hi=tf.constant(\"Hello this is tensor flow\")\n",
        "print(hi.numpy().decode('utf-8'))"
      ]
    },
    {
      "cell_type": "code",
      "source": [
        "import tensorflow as tf\n",
        "a=tf.constant(10)\n",
        "b=tf.constant(20)\n",
        "#perform on basic operations using tensor framework\n",
        "add=tf.add(a,b)\n",
        "sub=tf.subtract(a,b)\n",
        "mul=tf.multiply(a,b)\n",
        "div=tf.divide(a,b)\n",
        "print(f\"addition is: {add.numpy()}\")\n",
        "print(f\"Subtraction is:{sub.numpy()}\")\n",
        "print(f\"Multiplication is:{mul.numpy()}\")\n",
        "print(f\"Division is:{div.numpy()}\")"
      ],
      "metadata": {
        "colab": {
          "base_uri": "https://localhost:8080/"
        },
        "id": "gtLwHinAsUQI",
        "outputId": "11c47d13-3bf4-4869-ac02-b19dde3959c9"
      },
      "execution_count": 12,
      "outputs": [
        {
          "output_type": "stream",
          "name": "stdout",
          "text": [
            "addition is: 30\n",
            "Subtraction is:-10\n",
            "Multiplication is:200\n",
            "Division is:0.5\n"
          ]
        }
      ]
    },
    {
      "cell_type": "code",
      "source": [
        "import tensorflow as tf\n",
        "tensor1=tf.constant([[1,2],[3,4]])\n",
        "tensor2=tf.constant([[5,6],[7,8]])\n",
        "#matrix multiplication using tensor\n",
        "result=tf.matmul(tensor1,tensor2)\n",
        "print(result)"
      ],
      "metadata": {
        "colab": {
          "base_uri": "https://localhost:8080/"
        },
        "id": "LJWkgFdru67r",
        "outputId": "16f6ffc6-954d-4f9a-abfd-128e24d754db"
      },
      "execution_count": 13,
      "outputs": [
        {
          "output_type": "stream",
          "name": "stdout",
          "text": [
            "tf.Tensor(\n",
            "[[19 22]\n",
            " [43 50]], shape=(2, 2), dtype=int32)\n"
          ]
        }
      ]
    },
    {
      "cell_type": "code",
      "source": [
        "import tensorflow as tf\n",
        "import numpy as np\n",
        "\n",
        "#generate sample data like(y=2x)\n",
        "X=np.array([1,2,3,4,5], dtype=np.float32)\n",
        "Y=np.array([2,4,6,8,10], dtype=np.float32)\n",
        "\n",
        "#define a simple linear model\n",
        "model=tf.keras.Sequential([tf.keras.layers.Dense(units=1, input_shape=[1])])\n",
        "\n",
        "#compile the model with optimizer and loss function\n",
        "model.compile(optimizer='sgd', loss='mean_squared_error')\n",
        "\n",
        "#train the model\n",
        "model.fit(X,Y,epochs=500, verbose=0)\n",
        "\n",
        "#make a prediction\n",
        "new_input=np.array([6], dtype=np.float32)\n",
        "prediction=model.predict(new_input)\n",
        "print(prediction)"
      ],
      "metadata": {
        "colab": {
          "base_uri": "https://localhost:8080/"
        },
        "id": "XH5_Cgdxv0Qb",
        "outputId": "561d671e-3a8f-45f2-a58a-a7ec69323479"
      },
      "execution_count": 19,
      "outputs": [
        {
          "output_type": "stream",
          "name": "stdout",
          "text": [
            "\u001b[1m1/1\u001b[0m \u001b[32m━━━━━━━━━━━━━━━━━━━━\u001b[0m\u001b[37m\u001b[0m \u001b[1m0s\u001b[0m 54ms/step\n",
            "[[11.973936]]\n"
          ]
        }
      ]
    }
  ]
}